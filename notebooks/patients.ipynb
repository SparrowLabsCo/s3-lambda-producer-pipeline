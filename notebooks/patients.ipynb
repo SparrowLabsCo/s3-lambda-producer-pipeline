{
 "cells": [
  {
   "cell_type": "code",
   "execution_count": null,
   "id": "f8f4091d",
   "metadata": {},
   "outputs": [],
   "source": [
    "\n",
    "bucket= \"output-bucket-default-7judoaym\"\n",
    "import pyspark"
   ]
  },
  {
   "cell_type": "code",
   "execution_count": null,
   "id": "38851e4d",
   "metadata": {
    "scrolled": true
   },
   "outputs": [],
   "source": [
    "\n",
    "patients = spark.read.parquet(\"s3a://%s/patients/_raw\" %(bucket))\n",
    "\n",
    "print(patients.count())\n",
    "patients.printSchema()\n"
   ]
  },
  {
   "cell_type": "code",
   "execution_count": null,
   "id": "913a338c",
   "metadata": {},
   "outputs": [],
   "source": [
    "\n",
    "from pyspark.sql import functions as f\n",
    "from pyspark.sql import types as t\n",
    "from pyspark.sql import Window as w\n",
    "from pyspark.sql.functions import udf\n",
    "\n",
    "def ascii_ignore(x):\n",
    "    return x.encode('ascii', 'ignore').decode('ascii')\n",
    "\n",
    "ascii_udf = udf(ascii_ignore)\n",
    "\n",
    "def trim_to_null(c):\n",
    "  return (\n",
    "    f.lower(\n",
    "      f.when(f.trim(f.col(c)) == '', None)\n",
    "      .when(f.trim(f.col(c)) == 'null', None)\n",
    "      .otherwise(f.trim(f.col(c)))\n",
    "    )\n",
    "  )\n",
    "\n",
    "keep_cols = ['id', 'birth_date', 'first_name', 'surname', 'social_sec_num','suffix']\n",
    "\n",
    "people_bronze = patients.select(*keep_cols)\n",
    "people_bronze = people_bronze.withColumn(\"first_name\", ascii_udf('first_name'))\n",
    "people_bronze = people_bronze.withColumn(\"last_name\", ascii_udf('surname'))\n",
    "people_bronze = people_bronze.withColumn(\"suffix\", f.lower(trim_to_null(\"suffix\")))\n",
    "people_bronze = people_bronze.drop(people_bronze.surname)\n",
    "people_bronze.printSchema()\n",
    "people_bronze.write.format(\"parquet\").mode(\"overwrite\").save(\"s3a://%s/patients/_bronze\" %(bucket))"
   ]
  },
  {
   "cell_type": "code",
   "execution_count": null,
   "id": "ca826ec1",
   "metadata": {},
   "outputs": [],
   "source": [
    "people_bronze.write.mode(\"overwrite\").saveAsTable(\"bronze_patients\")"
   ]
  },
  {
   "cell_type": "code",
   "execution_count": null,
   "id": "6bec675e",
   "metadata": {},
   "outputs": [],
   "source": [
    "\n",
    "distinct_id = spark.sql(\"SELECT distinct id FROM bronze_patients\").count()\n",
    "print(distinct_id)\n",
    "\n",
    "distinct_all = spark.sql(\"SELECT id, first_name, last_name, birth_date, social_sec_num FROM bronze_patients\").count()\n",
    "print(distinct_all)\n",
    "\n",
    "distinct_ssn = spark.sql(\"SELECT distinct social_sec_num FROM bronze_patients\").count()\n",
    "print(distinct_ssn)"
   ]
  },
  {
   "cell_type": "code",
   "execution_count": null,
   "id": "dca8304f",
   "metadata": {},
   "outputs": [],
   "source": [
    "clean = spark.read.parquet(\"s3a://%s/patients/_clean\" %(bucket))\n",
    "\n",
    "print(clean.count())\n",
    "clean.printSchema()"
   ]
  },
  {
   "cell_type": "code",
   "execution_count": null,
   "id": "1110d0bb",
   "metadata": {},
   "outputs": [],
   "source": [
    "clean.write.mode(\"overwrite\").saveAsTable(\"patients_clean\")\n"
   ]
  },
  {
   "cell_type": "code",
   "execution_count": 1,
   "id": "a6e7ddd4",
   "metadata": {},
   "outputs": [
    {
     "name": "stdout",
     "output_type": "stream",
     "text": [
      "22/12/04 08:48:18 WARN HiveConf: HiveConf of name hive.stats.jdbc.timeout does not exist\n",
      "22/12/04 08:48:18 WARN HiveConf: HiveConf of name hive.stats.retries.wait does not exist\n",
      "22/12/04 08:48:21 WARN ObjectStore: Version information not found in metastore. hive.metastore.schema.verification is not enabled so recording the schema version 2.3.0\n",
      "22/12/04 08:48:21 WARN ObjectStore: setMetaStoreSchemaVersion called but recording version is disabled: version = 2.3.0, comment = Set by MetaStore jon@127.0.1.1\n",
      "root\n",
      " |-- id: string (nullable = true)\n",
      " |-- birth_date: string (nullable = true)\n",
      " |-- first_name: string (nullable = true)\n",
      " |-- social_sec_num: string (nullable = true)\n",
      " |-- suffix: string (nullable = true)\n",
      " |-- last_name: string (nullable = true)\n",
      "\n"
     ]
    },
    {
     "name": "stderr",
     "output_type": "stream",
     "text": [
      "                                                                                \r"
     ]
    },
    {
     "name": "stdout",
     "output_type": "stream",
     "text": [
      "+------------------------------------+----------+-----------+--------------+------+------------+------------------------------------------------------------------------------------------------------------------------------------------+\n",
      "|id                                  |birth_date|first_name |social_sec_num|suffix|last_name   |json_col                                                                                                                                  |\n",
      "+------------------------------------+----------+-----------+--------------+------+------------+------------------------------------------------------------------------------------------------------------------------------------------+\n",
      "|6cf93841-acdc-45c5-aca5-7c3efefd7494|6/12/1984 |Mario764   |999-10-1847   |null  |Waters156   |{\"id\":\"6cf93841-acdc-45c5-aca5-7c3efefd7494\",\"first_name\":\"Mario764\",\"last_name\":\"Waters156\",\"birth_date\":\"6/12/1984\",\"suffix\":null}      |\n",
      "|53f3587e-b9bf-473a-b36e-62f0e1946fa1|2/26/1949 |Reyna401   |999-10-3134   |null  |Shanahan202 |{\"id\":\"53f3587e-b9bf-473a-b36e-62f0e1946fa1\",\"first_name\":\"Reyna401\",\"last_name\":\"Shanahan202\",\"birth_date\":\"2/26/1949\",\"suffix\":null}    |\n",
      "|ab41f97a-1f4a-4718-a760-1e112514f282|11/19/1967|Della552   |999-10-3892   |null  |Feil794     |{\"id\":\"ab41f97a-1f4a-4718-a760-1e112514f282\",\"first_name\":\"Della552\",\"last_name\":\"Feil794\",\"birth_date\":\"11/19/1967\",\"suffix\":null}       |\n",
      "|dcda9f18-59eb-402e-985b-f13c15c2131c|12/19/2012|Colby655   |999-10-6031   |null  |Gleichner915|{\"id\":\"dcda9f18-59eb-402e-985b-f13c15c2131c\",\"first_name\":\"Colby655\",\"last_name\":\"Gleichner915\",\"birth_date\":\"12/19/2012\",\"suffix\":null}  |\n",
      "|d9988dce-ec05-4138-8f04-b0c77473a260|9/13/2017 |Dan465     |999-10-8228   |null  |Walker122   |{\"id\":\"d9988dce-ec05-4138-8f04-b0c77473a260\",\"first_name\":\"Dan465\",\"last_name\":\"Walker122\",\"birth_date\":\"9/13/2017\",\"suffix\":null}        |\n",
      "|2146b1c2-74e9-4217-8869-b8121bead8cc|7/4/2010  |Larisa542  |999-10-8649   |null  |Fritsch593  |{\"id\":\"2146b1c2-74e9-4217-8869-b8121bead8cc\",\"first_name\":\"Larisa542\",\"last_name\":\"Fritsch593\",\"birth_date\":\"7/4/2010\",\"suffix\":null}     |\n",
      "|3f8d6443-f7d9-40bf-acb5-427c853a68ca|9/7/1937  |Aubrey96   |999-10-9322   |null  |Lehner980   |{\"id\":\"3f8d6443-f7d9-40bf-acb5-427c853a68ca\",\"first_name\":\"Aubrey96\",\"last_name\":\"Lehner980\",\"birth_date\":\"9/7/1937\",\"suffix\":null}       |\n",
      "|d9b90b1e-e22f-48e0-85e5-ca8a71ad06f7|2/5/2017  |Dean966    |999-10-9858   |null  |Heathcote539|{\"id\":\"d9b90b1e-e22f-48e0-85e5-ca8a71ad06f7\",\"first_name\":\"Dean966\",\"last_name\":\"Heathcote539\",\"birth_date\":\"2/5/2017\",\"suffix\":null}     |\n",
      "|94aef7c4-e4a1-47df-8467-1be7a64ad884|10/5/2011 |Mike230    |999-10-9858   |null  |Hahn503     |{\"id\":\"94aef7c4-e4a1-47df-8467-1be7a64ad884\",\"first_name\":\"Mike230\",\"last_name\":\"Hahn503\",\"birth_date\":\"10/5/2011\",\"suffix\":null}         |\n",
      "|844d1c39-6ca2-48df-a3de-f9a12633f69c|7/20/1963 |Corinna386 |999-11-1235   |null  |Boehm581    |{\"id\":\"844d1c39-6ca2-48df-a3de-f9a12633f69c\",\"first_name\":\"Corinna386\",\"last_name\":\"Boehm581\",\"birth_date\":\"7/20/1963\",\"suffix\":null}     |\n",
      "|d2726876-1462-4c32-b0e6-1628fdb88c14|4/22/1925 |Boris111   |999-11-1805   |null  |Marks830    |{\"id\":\"d2726876-1462-4c32-b0e6-1628fdb88c14\",\"first_name\":\"Boris111\",\"last_name\":\"Marks830\",\"birth_date\":\"4/22/1925\",\"suffix\":null}       |\n",
      "|efa3e04c-ec23-46e4-9431-a73492ad32a5|1/24/1946 |Wilma646   |999-11-3069   |null  |Crooks415   |{\"id\":\"efa3e04c-ec23-46e4-9431-a73492ad32a5\",\"first_name\":\"Wilma646\",\"last_name\":\"Crooks415\",\"birth_date\":\"1/24/1946\",\"suffix\":null}      |\n",
      "|1e040769-9101-4228-9b0b-26263faf7297|11/26/2002|Armand155  |999-11-3069   |null  |Schmeler639 |{\"id\":\"1e040769-9101-4228-9b0b-26263faf7297\",\"first_name\":\"Armand155\",\"last_name\":\"Schmeler639\",\"birth_date\":\"11/26/2002\",\"suffix\":null}  |\n",
      "|9841342b-fa85-4526-9036-b138ffa81a2a|6/6/1985  |Lindsy319  |999-11-3190   |null  |Cummings51  |{\"id\":\"9841342b-fa85-4526-9036-b138ffa81a2a\",\"first_name\":\"Lindsy319\",\"last_name\":\"Cummings51\",\"birth_date\":\"6/6/1985\",\"suffix\":null}     |\n",
      "|76ddb9d8-0c16-478e-b6e5-b5c2e4f7860e|5/10/1984 |Brooks264  |999-11-3275   |null  |Weimann465  |{\"id\":\"76ddb9d8-0c16-478e-b6e5-b5c2e4f7860e\",\"first_name\":\"Brooks264\",\"last_name\":\"Weimann465\",\"birth_date\":\"5/10/1984\",\"suffix\":null}    |\n",
      "|74f2ee46-fb61-4ab8-98f8-b123c2b62d2e|10/13/1995|Jon665     |999-11-3522   |null  |Zboncak558  |{\"id\":\"74f2ee46-fb61-4ab8-98f8-b123c2b62d2e\",\"first_name\":\"Jon665\",\"last_name\":\"Zboncak558\",\"birth_date\":\"10/13/1995\",\"suffix\":null}      |\n",
      "|8c31f907-0b18-4df8-a9eb-1657965d93d6|10/27/1991|Oliver401  |999-11-5243   |null  |Davis923    |{\"id\":\"8c31f907-0b18-4df8-a9eb-1657965d93d6\",\"first_name\":\"Oliver401\",\"last_name\":\"Davis923\",\"birth_date\":\"10/27/1991\",\"suffix\":null}     |\n",
      "|a7f1fa30-89c1-408a-8610-c09db0c8d90d|10/29/1940|Elliott563 |999-11-5642   |null  |Towne435    |{\"id\":\"a7f1fa30-89c1-408a-8610-c09db0c8d90d\",\"first_name\":\"Elliott563\",\"last_name\":\"Towne435\",\"birth_date\":\"10/29/1940\",\"suffix\":null}    |\n",
      "|04630e85-e9f5-4a9b-be75-97f2c3346037|3/7/1953  |Lynette631 |999-11-6672   |null  |Walter473   |{\"id\":\"04630e85-e9f5-4a9b-be75-97f2c3346037\",\"first_name\":\"Lynette631\",\"last_name\":\"Walter473\",\"birth_date\":\"3/7/1953\",\"suffix\":null}     |\n",
      "|5ad3dd08-6e9e-4feb-98ff-2c03ad4d3ef1|11/25/1972|Sharolyn456|999-11-7412   |null  |Reynolds644 |{\"id\":\"5ad3dd08-6e9e-4feb-98ff-2c03ad4d3ef1\",\"first_name\":\"Sharolyn456\",\"last_name\":\"Reynolds644\",\"birth_date\":\"11/25/1972\",\"suffix\":null}|\n",
      "+------------------------------------+----------+-----------+--------------+------+------------+------------------------------------------------------------------------------------------------------------------------------------------+\n",
      "only showing top 20 rows\n",
      "\n"
     ]
    }
   ],
   "source": [
    "import pyspark.sql.functions as F\n",
    "\n",
    "df = spark.sql(\"select * from patients_clean order by social_sec_num\")\n",
    "df.printSchema()\n",
    "\n",
    "json_cols = ['id','first_name', 'last_name', 'birth_date', 'suffix']\n",
    "stream_df = df.withColumn('json_col', F.to_json(F.struct(*[F.col(c) for c in json_cols]), options={\"ignoreNullFields\":False}))\n",
    "stream_df.show(truncate=False)"
   ]
  },
  {
   "cell_type": "code",
   "execution_count": 2,
   "id": "bd8656a3",
   "metadata": {},
   "outputs": [
    {
     "name": "stderr",
     "output_type": "stream",
     "text": [
      "                                                                                \r"
     ]
    }
   ],
   "source": [
    "import os\n",
    "BOOTSTRAP_SERVERS=os.environ.get('BOOTSTRAP_SERVERS')\n",
    "PASS=os.environ.get('CONFLUENT_PASSWORD')\n",
    "USER=os.environ.get('CONFLUENT_USERNAME')\n",
    "\n",
    "stream_df.selectExpr(\"CAST(id AS STRING) as key\", \"CAST(json_col AS STRING) as value\") \\\n",
    "    .write.format(\"kafka\") \\\n",
    "    .option(\"kafka.bootstrap.servers\", \"%s\" %(BOOTSTRAP_SERVERS)) \\\n",
    "    .option(\"kafka.security.protocol\", \"SASL_SSL\") \\\n",
    "    .option(\"kafka.sasl.mechanism\", \"PLAIN\") \\\n",
    "    .option(\"kafka.ssl.endpoint.identification.algorithm\", \"https\") \\\n",
    "    .option(\"kafka.sasl.jaas.config\", \"\"\"org.apache.kafka.common.security.plain.PlainLoginModule required username=\"%s\" password=\"%s\";\"\"\" %(USER,PASS)) \\\n",
    "    .option(\"topic\", \"patients\") \\\n",
    "    .save()"
   ]
  },
  {
   "cell_type": "markdown",
   "id": "ece9e67c",
   "metadata": {},
   "source": []
  }
 ],
 "metadata": {
  "kernelspec": {
   "display_name": "Python 3 (ipykernel)",
   "language": "python",
   "name": "python3"
  },
  "language_info": {
   "codemirror_mode": {
    "name": "ipython",
    "version": 3
   },
   "file_extension": ".py",
   "mimetype": "text/x-python",
   "name": "python",
   "nbconvert_exporter": "python",
   "pygments_lexer": "ipython3",
   "version": "3.10.6"
  },
  "vscode": {
   "interpreter": {
    "hash": "31f2aee4e71d21fbe5cf8b01ff0e069b9275f58929596ceb00d14d90e3e16cd6"
   }
  }
 },
 "nbformat": 4,
 "nbformat_minor": 5
}

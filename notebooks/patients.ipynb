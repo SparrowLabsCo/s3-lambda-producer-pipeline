{
 "cells": [
  {
   "cell_type": "code",
   "execution_count": 19,
   "id": "f8f4091d",
   "metadata": {},
   "outputs": [],
   "source": [
    "\n",
    "bucket= \"output-bucket-default-0ow6d9sh\"\n",
    "\n",
    "import pyspark"
   ]
  },
  {
   "cell_type": "code",
   "execution_count": 24,
   "id": "38851e4d",
   "metadata": {
    "scrolled": true
   },
   "outputs": [
    {
     "name": "stdout",
     "output_type": "stream",
     "text": [
      "22/11/22 11:09:32 WARN DataSource: All paths were ignored:\n",
      "  s3a://output-bucket-default-0ow6d9sh/patients/_raw\n",
      "1171\n",
      "root\n",
      " |-- id: string (nullable = true)\n",
      " |-- birth_date: string (nullable = true)\n",
      " |-- death_date: string (nullable = true)\n",
      " |-- social_sec_num: string (nullable = true)\n",
      " |-- drivers: string (nullable = true)\n",
      " |-- passport: string (nullable = true)\n",
      " |-- prefix: string (nullable = true)\n",
      " |-- first_name: string (nullable = true)\n",
      " |-- surname: string (nullable = true)\n",
      " |-- suffix: string (nullable = true)\n",
      " |-- maiden_name: string (nullable = true)\n",
      " |-- marital: string (nullable = true)\n",
      " |-- race: string (nullable = true)\n",
      " |-- ethnicity: string (nullable = true)\n",
      " |-- gender: string (nullable = true)\n",
      " |-- birthplace: string (nullable = true)\n",
      " |-- address: string (nullable = true)\n",
      " |-- postal_code: long (nullable = true)\n",
      " |-- city: string (nullable = true)\n",
      " |-- state: string (nullable = true)\n",
      " |-- county: string (nullable = true)\n",
      " |-- lat: double (nullable = true)\n",
      " |-- lon: double (nullable = true)\n",
      " |-- healthcare_coverage: double (nullable = true)\n",
      " |-- healthcare_expenses: double (nullable = true)\n",
      "\n"
     ]
    },
    {
     "name": "stderr",
     "output_type": "stream",
     "text": [
      "                                                                                \r"
     ]
    }
   ],
   "source": [
    "\n",
    "patients = spark.read.parquet(\"s3a://%s/patients/_raw\" %(bucket))\n",
    "\n",
    "print(patients.count())\n",
    "patients.printSchema()\n"
   ]
  },
  {
   "cell_type": "code",
   "execution_count": null,
   "id": "913a338c",
   "metadata": {},
   "outputs": [],
   "source": [
    "\n",
    "from pyspark.sql import functions as f\n",
    "from pyspark.sql import types as t\n",
    "from pyspark.sql import Window as w\n",
    "from pyspark.sql.functions import udf\n",
    "\n",
    "def ascii_ignore(x):\n",
    "    return x.encode('ascii', 'ignore').decode('ascii')\n",
    "\n",
    "ascii_udf = udf(ascii_ignore)\n",
    "\n",
    "def trim_to_null(c):\n",
    "  return (\n",
    "    f.lower(\n",
    "      f.when(f.trim(f.col(c)) == '', None)\n",
    "      .when(f.trim(f.col(c)) == 'null', None)\n",
    "      .otherwise(f.trim(f.col(c)))\n",
    "    )\n",
    "  )\n",
    "\n",
    "keep_cols = ['id', 'birth_date', 'first_name', 'surname', 'social_sec_num','suffix']\n",
    "\n",
    "people_bronze = patients.select(*keep_cols)\n",
    "people_bronze = people_bronze.withColumn(\"first_name\", ascii_udf('first_name'))\n",
    "people_bronze = people_bronze.withColumn(\"last_name\", ascii_udf('surname'))\n",
    "people_bronze = people_bronze.withColumn(\"suffix\", f.lower(trim_to_null(\"suffix\")))\n",
    "people_bronze = people_bronze.drop(people_bronze.surname)\n",
    "people_bronze.printSchema()\n",
    "people_bronze.write.format(\"parquet\").mode(\"overwrite\").save(\"s3a://%s/patients/_bronze\" %(bucket))"
   ]
  },
  {
   "cell_type": "code",
   "execution_count": null,
   "id": "ca826ec1",
   "metadata": {},
   "outputs": [],
   "source": [
    "people_bronze.write.mode(\"overwrite\").saveAsTable(\"bronze_patients\")"
   ]
  },
  {
   "cell_type": "code",
   "execution_count": null,
   "id": "6bec675e",
   "metadata": {},
   "outputs": [],
   "source": [
    "\n",
    "distinct_id = spark.sql(\"SELECT distinct id FROM bronze_patients\").count()\n",
    "print(distinct_id)\n",
    "\n",
    "distinct_all = spark.sql(\"SELECT id, first_name, last_name, birth_date, social_sec_num FROM bronze_patients\").count()\n",
    "print(distinct_all)\n",
    "\n",
    "distinct_ssn = spark.sql(\"SELECT distinct social_sec_num FROM bronze_patients\").count()\n",
    "print(distinct_ssn)"
   ]
  },
  {
   "cell_type": "code",
   "execution_count": 20,
   "id": "dca8304f",
   "metadata": {},
   "outputs": [
    {
     "name": "stdout",
     "output_type": "stream",
     "text": [
      "22/11/22 10:58:46 WARN DataSource: All paths were ignored:\n",
      "  s3a://output-bucket-default-0ow6d9sh/patients/_clean\n",
      "1171\n",
      "root\n",
      " |-- id: string (nullable = true)\n",
      " |-- birth_date: string (nullable = true)\n",
      " |-- first_name: string (nullable = true)\n",
      " |-- social_sec_num: string (nullable = true)\n",
      " |-- suffix: string (nullable = true)\n",
      " |-- last_name: string (nullable = true)\n",
      "\n"
     ]
    }
   ],
   "source": [
    "clean = spark.read.parquet(\"s3a://%s/patients/_clean\" %(bucket))\n",
    "\n",
    "print(clean.count())\n",
    "clean.printSchema()"
   ]
  },
  {
   "cell_type": "code",
   "execution_count": 21,
   "id": "1110d0bb",
   "metadata": {},
   "outputs": [
    {
     "name": "stderr",
     "output_type": "stream",
     "text": [
      "                                                                                \r"
     ]
    }
   ],
   "source": [
    "clean.write.mode(\"overwrite\").saveAsTable(\"patients_clean\")\n"
   ]
  },
  {
   "cell_type": "code",
   "execution_count": 22,
   "id": "394ca8cf",
   "metadata": {},
   "outputs": [
    {
     "data": {
      "text/html": [
       "<div>\n",
       "<style scoped>\n",
       "    .dataframe tbody tr th:only-of-type {\n",
       "        vertical-align: middle;\n",
       "    }\n",
       "\n",
       "    .dataframe tbody tr th {\n",
       "        vertical-align: top;\n",
       "    }\n",
       "\n",
       "    .dataframe thead th {\n",
       "        text-align: right;\n",
       "    }\n",
       "</style>\n",
       "<table border=\"1\" class=\"dataframe\">\n",
       "  <thead>\n",
       "    <tr style=\"text-align: right;\">\n",
       "      <th></th>\n",
       "      <th>id</th>\n",
       "      <th>birth_date</th>\n",
       "      <th>first_name</th>\n",
       "      <th>social_sec_num</th>\n",
       "      <th>suffix</th>\n",
       "      <th>last_name</th>\n",
       "    </tr>\n",
       "  </thead>\n",
       "  <tbody>\n",
       "    <tr>\n",
       "      <th>0</th>\n",
       "      <td>1d604da9-9a81-4ba9-80c2-de3375d59b40</td>\n",
       "      <td>5/25/1989</td>\n",
       "      <td>Jos Eduardo181</td>\n",
       "      <td>999-76-6866</td>\n",
       "      <td>None</td>\n",
       "      <td>Gmez206</td>\n",
       "    </tr>\n",
       "    <tr>\n",
       "      <th>1</th>\n",
       "      <td>034e9e3b-2def-4559-bb2a-7850888ae060</td>\n",
       "      <td>11/14/1983</td>\n",
       "      <td>Milo271</td>\n",
       "      <td>999-99-8899</td>\n",
       "      <td>None</td>\n",
       "      <td>Feil794</td>\n",
       "    </tr>\n",
       "    <tr>\n",
       "      <th>2</th>\n",
       "      <td>10339b10-3cd1-4ac3-ac13-ec26728cb592</td>\n",
       "      <td>6/2/1992</td>\n",
       "      <td>Jayson808</td>\n",
       "      <td>999-27-3385</td>\n",
       "      <td>None</td>\n",
       "      <td>Fadel536</td>\n",
       "    </tr>\n",
       "    <tr>\n",
       "      <th>3</th>\n",
       "      <td>8d4c4326-e9de-4f45-9a4c-f8c36bff89ae</td>\n",
       "      <td>5/27/1978</td>\n",
       "      <td>Mariana775</td>\n",
       "      <td>999-61-7267</td>\n",
       "      <td>None</td>\n",
       "      <td>Rutherford999</td>\n",
       "    </tr>\n",
       "    <tr>\n",
       "      <th>4</th>\n",
       "      <td>f5dcd418-09fe-4a2f-baa0-3da800bd8c3a</td>\n",
       "      <td>10/18/1996</td>\n",
       "      <td>Gregorio366</td>\n",
       "      <td>999-60-7372</td>\n",
       "      <td>None</td>\n",
       "      <td>Auer97</td>\n",
       "    </tr>\n",
       "    <tr>\n",
       "      <th>...</th>\n",
       "      <td>...</td>\n",
       "      <td>...</td>\n",
       "      <td>...</td>\n",
       "      <td>...</td>\n",
       "      <td>...</td>\n",
       "      <td>...</td>\n",
       "    </tr>\n",
       "    <tr>\n",
       "      <th>1166</th>\n",
       "      <td>023a7d29-32b3-4db5-89c8-b88bd7582ec0</td>\n",
       "      <td>2/14/1922</td>\n",
       "      <td>Conchita9</td>\n",
       "      <td>999-60-9291</td>\n",
       "      <td>None</td>\n",
       "      <td>Peres371</td>\n",
       "    </tr>\n",
       "    <tr>\n",
       "      <th>1167</th>\n",
       "      <td>1fc8dafd-90e5-44d6-9179-81156c0ea083</td>\n",
       "      <td>8/8/1977</td>\n",
       "      <td>Donn979</td>\n",
       "      <td>999-29-3501</td>\n",
       "      <td>None</td>\n",
       "      <td>Casper496</td>\n",
       "    </tr>\n",
       "    <tr>\n",
       "      <th>1168</th>\n",
       "      <td>6d048a56-edb8-4f29-891d-7a84d75a8e78</td>\n",
       "      <td>9/5/1914</td>\n",
       "      <td>Kimber624</td>\n",
       "      <td>999-60-2184</td>\n",
       "      <td>None</td>\n",
       "      <td>Volkman526</td>\n",
       "    </tr>\n",
       "    <tr>\n",
       "      <th>1169</th>\n",
       "      <td>fca3178e-fb68-41c3-8598-702d3ca68b96</td>\n",
       "      <td>9/5/1914</td>\n",
       "      <td>Shira43</td>\n",
       "      <td>999-48-3257</td>\n",
       "      <td>None</td>\n",
       "      <td>Bruen238</td>\n",
       "    </tr>\n",
       "    <tr>\n",
       "      <th>1170</th>\n",
       "      <td>fc817953-cc8b-45db-9c85-7c0ced8fa90d</td>\n",
       "      <td>9/5/1914</td>\n",
       "      <td>Oneida64</td>\n",
       "      <td>999-72-8988</td>\n",
       "      <td>None</td>\n",
       "      <td>Nicolas769</td>\n",
       "    </tr>\n",
       "  </tbody>\n",
       "</table>\n",
       "<p>1171 rows × 6 columns</p>\n",
       "</div>"
      ],
      "text/plain": [
       "                                        id  birth_date      first_name  \\\n",
       "0     1d604da9-9a81-4ba9-80c2-de3375d59b40   5/25/1989  Jos Eduardo181   \n",
       "1     034e9e3b-2def-4559-bb2a-7850888ae060  11/14/1983         Milo271   \n",
       "2     10339b10-3cd1-4ac3-ac13-ec26728cb592    6/2/1992       Jayson808   \n",
       "3     8d4c4326-e9de-4f45-9a4c-f8c36bff89ae   5/27/1978      Mariana775   \n",
       "4     f5dcd418-09fe-4a2f-baa0-3da800bd8c3a  10/18/1996     Gregorio366   \n",
       "...                                    ...         ...             ...   \n",
       "1166  023a7d29-32b3-4db5-89c8-b88bd7582ec0   2/14/1922       Conchita9   \n",
       "1167  1fc8dafd-90e5-44d6-9179-81156c0ea083    8/8/1977         Donn979   \n",
       "1168  6d048a56-edb8-4f29-891d-7a84d75a8e78    9/5/1914       Kimber624   \n",
       "1169  fca3178e-fb68-41c3-8598-702d3ca68b96    9/5/1914         Shira43   \n",
       "1170  fc817953-cc8b-45db-9c85-7c0ced8fa90d    9/5/1914        Oneida64   \n",
       "\n",
       "     social_sec_num suffix      last_name  \n",
       "0       999-76-6866   None        Gmez206  \n",
       "1       999-99-8899   None        Feil794  \n",
       "2       999-27-3385   None       Fadel536  \n",
       "3       999-61-7267   None  Rutherford999  \n",
       "4       999-60-7372   None         Auer97  \n",
       "...             ...    ...            ...  \n",
       "1166    999-60-9291   None       Peres371  \n",
       "1167    999-29-3501   None      Casper496  \n",
       "1168    999-60-2184   None     Volkman526  \n",
       "1169    999-48-3257   None       Bruen238  \n",
       "1170    999-72-8988   None     Nicolas769  \n",
       "\n",
       "[1171 rows x 6 columns]"
      ]
     },
     "execution_count": 22,
     "metadata": {},
     "output_type": "execute_result"
    }
   ],
   "source": [
    "\n",
    "spark.sql(\"select * from patients_clean\").toPandas()"
   ]
  }
 ],
 "metadata": {
  "kernelspec": {
   "display_name": "Python 3 (ipykernel)",
   "language": "python",
   "name": "python3"
  },
  "language_info": {
   "codemirror_mode": {
    "name": "ipython",
    "version": 3
   },
   "file_extension": ".py",
   "mimetype": "text/x-python",
   "name": "python",
   "nbconvert_exporter": "python",
   "pygments_lexer": "ipython3",
   "version": "3.8.10"
  },
  "vscode": {
   "interpreter": {
    "hash": "1dd368f889e8930c4b08e39412899b6adb35f685353ffb4b6560c6162c863186"
   }
  }
 },
 "nbformat": 4,
 "nbformat_minor": 5
}

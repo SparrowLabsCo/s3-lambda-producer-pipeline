{
 "cells": [
  {
   "cell_type": "code",
   "execution_count": null,
   "id": "f8f4091d",
   "metadata": {},
   "outputs": [],
   "source": [
    "### change this to your newly created output bucket folder ###\n",
    "bucket= \"output-bucket-default-i5frrop8\"\n",
    "\n",
    "import pyspark"
   ]
  },
  {
   "cell_type": "code",
   "execution_count": null,
   "id": "38851e4d",
   "metadata": {
    "scrolled": true
   },
   "outputs": [],
   "source": [
    "\n",
    "patients = spark.read.parquet(\"s3a://%s/patients/_raw\" %(bucket))\n",
    "\n",
    "print(patients.count())\n",
    "patients.printSchema()\n"
   ]
  },
  {
   "cell_type": "code",
   "execution_count": null,
   "id": "913a338c",
   "metadata": {},
   "outputs": [],
   "source": [
    "\n",
    "from pyspark.sql import functions as f\n",
    "from pyspark.sql import types as t\n",
    "from pyspark.sql import Window as w\n",
    "from pyspark.sql.functions import udf\n",
    "\n",
    "def ascii_ignore(x):\n",
    "    return x.encode('ascii', 'ignore').decode('ascii')\n",
    "\n",
    "ascii_udf = udf(ascii_ignore)\n",
    "\n",
    "def trim_to_null(c):\n",
    "  return (\n",
    "    f.lower(\n",
    "      f.when(f.trim(f.col(c)) == '', None)\n",
    "      .when(f.trim(f.col(c)) == 'null', None)\n",
    "      .otherwise(f.trim(f.col(c)))\n",
    "    )\n",
    "  )\n",
    "\n",
    "keep_cols = ['id', 'birth_date', 'first_name', 'surname', 'social_sec_num','suffix']\n",
    "\n",
    "people_bronze = patients.select(*keep_cols)\n",
    "people_bronze = people_bronze.withColumn(\"first_name\", ascii_udf('first_name'))\n",
    "people_bronze = people_bronze.withColumn(\"last_name\", ascii_udf('surname'))\n",
    "people_bronze = people_bronze.withColumn(\"suffix\", f.lower(trim_to_null(\"suffix\")))\n",
    "people_bronze = people_bronze.drop(people_bronze.surname)\n",
    "people_bronze.printSchema()\n",
    "people_bronze.write.format(\"parquet\").mode(\"overwrite\").save(\"s3a://%s/patients/_bronze\" %(bucket))"
   ]
  },
  {
   "cell_type": "code",
   "execution_count": null,
   "id": "ca826ec1",
   "metadata": {},
   "outputs": [],
   "source": [
    "people_bronze.write.mode(\"overwrite\").saveAsTable(\"bronze_patients\")"
   ]
  },
  {
   "cell_type": "code",
   "execution_count": null,
   "id": "6bec675e",
   "metadata": {},
   "outputs": [],
   "source": [
    "\n",
    "distinct_id = spark.sql(\"SELECT distinct id FROM bronze_patients\").count()\n",
    "print(distinct_id)\n",
    "\n",
    "distinct_all = spark.sql(\"SELECT id, first_name, last_name, birth_date, social_sec_num FROM bronze_patients\").count()\n",
    "print(distinct_all)\n",
    "\n",
    "distinct_ssn = spark.sql(\"SELECT distinct social_sec_num FROM bronze_patients\").count()\n",
    "print(distinct_ssn)"
   ]
  },
  {
   "cell_type": "code",
   "execution_count": null,
   "id": "dca8304f",
   "metadata": {},
   "outputs": [],
   "source": [
    "parquet = spark.read.parquet(\"s3a://%s/patients/_clean/parquet\" %(bucket))\n",
    "print(parquet.count())\n",
    "parquet.printSchema()\n",
    "\n",
    "delta = spark.read.format(\"delta\").load(\"s3a://%s/patients/_clean/delta\" %(bucket))\n",
    "print(delta.count())\n",
    "delta.printSchema()"
   ]
  },
  {
   "cell_type": "code",
   "execution_count": null,
   "id": "1110d0bb",
   "metadata": {},
   "outputs": [],
   "source": [
    "parquet.write.mode(\"overwrite\").saveAsTable(\"patients_clean\")\n"
   ]
  },
  {
   "cell_type": "code",
   "execution_count": null,
   "id": "394ca8cf",
   "metadata": {},
   "outputs": [],
   "source": [
    "\n",
    "spark.sql(\"select * from patients_clean\").toPandas()"
   ]
  }
 ],
 "metadata": {
  "kernelspec": {
   "display_name": "Python 3 (ipykernel)",
   "language": "python",
   "name": "python3"
  },
  "language_info": {
   "codemirror_mode": {
    "name": "ipython",
    "version": 3
   },
   "file_extension": ".py",
   "mimetype": "text/x-python",
   "name": "python",
   "nbconvert_exporter": "python",
   "pygments_lexer": "ipython3",
   "version": "3.8.10"
  },
  "vscode": {
   "interpreter": {
    "hash": "1dd368f889e8930c4b08e39412899b6adb35f685353ffb4b6560c6162c863186"
   }
  }
 },
 "nbformat": 4,
 "nbformat_minor": 5
}
